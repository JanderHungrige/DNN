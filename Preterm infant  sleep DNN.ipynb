{
 "cells": [
  {
   "cell_type": "markdown",
   "metadata": {},
   "source": [
    "# Preterm infant sleep \n",
    "\n",
    "## initialization of lybraries"
   ]
  },
  {
   "cell_type": "code",
   "execution_count": 33,
   "metadata": {},
   "outputs": [
    {
     "name": "stdout",
     "output_type": "stream",
     "text": [
      "\f",
      "\n"
     ]
    }
   ],
   "source": [
    "from Loading_5min_mat_files_DNN import Loading_data_all,Loading_data_perSession,Feature_names,Loading_Annotations\n",
    "from LOOCV_DNN import leave_one_out_cross_validation\n",
    "\n",
    "import itertools\n",
    "from matplotlib import *\n",
    "from numpy import *\n",
    "from pylab import *\n",
    "from sklearn.preprocessing import MinMaxScaler\n",
    "from sklearn.preprocessing import StandardScaler\n",
    "from sklearn.cross_validation import StratifiedKFold\n",
    "from sklearn.cross_validation import cross_val_score\n",
    "from sklearn.cross_validation import KFold\n",
    "from sklearn.metrics import accuracy_score \n",
    "from sklearn.metrics import cohen_kappa_score\n",
    "from sklearn.metrics import f1_score\n",
    "from sklearn.metrics import confusion_matrix\n",
    "from sklearn.metrics import roc_curve, auc\n",
    "from sklearn import svm, cross_validation\n",
    "from sklearn.discriminant_analysis import LinearDiscriminantAnalysis as LDA\n",
    "from sklearn.linear_model import Perceptron\n",
    "import sys #to add strings together\n",
    "import pdb # use pdb.set_trace() as breakpoint\n",
    "\n",
    "\n",
    "import time\n",
    "start_time = time.time()\n",
    "Klassifier=['RF','ERF','TR','GB', 'LR']\n",
    "SampMeth=['NONE','SMOTE','ADASYN']\n",
    "Whichmix=['perSession', 'all']\n",
    "\n",
    "\n",
    "%cls"
   ]
  },
  {
   "cell_type": "markdown",
   "metadata": {},
   "source": [
    "## Set Parameters"
   ]
  },
  {
   "cell_type": "markdown",
   "metadata": {},
   "source": [
    "## General "
   ]
  },
  {
   "cell_type": "code",
   "execution_count": 34,
   "metadata": {},
   "outputs": [],
   "source": [
    "merge34=1\n",
    "if merge34 and 3 in label:\n",
    "              label.remove(3)\n",
    "dispinfo=0\n",
    "ux=0 # using the cluster? \n",
    "\n",
    "FeatureSet='Features' #Features ECG, EDR, HRV\n",
    "lst= [0,1,2,3,4,5,6,7,8,9,10,11,12,13,14,15,16,17,18,19,20,21,22,23,24,25,26,27,28,29,30,31,32,33] \n",
    "label=[1,2,3,4,6] # 1=AS 2=QS 3=Wake 4=Care-taking 5=NA 6= transition\n",
    "\n",
    "Rpeakmethod='R' #R or M\n",
    "dataset='MMC'  #ECG cECG or MMC \n",
    "#***************\n",
    "if dataset=='ECG' or 'cECG':\n",
    "       selectedbabies =[0,1,2,3,5,6,7,8] #0-8 ('4','5','6','7','9','10','11','12','13')\n",
    "if dataset == 'MMC':\n",
    "       selectedbabies=[0,1,2,3,4,5,6,7,8,9,10,11,12,13,14,15,16,17,18,19,20,21] #0-21\n",
    "        \n"
   ]
  },
  {
   "cell_type": "markdown",
   "metadata": {},
   "source": [
    "## DNN specific"
   ]
  },
  {
   "cell_type": "code",
   "execution_count": 35,
   "metadata": {},
   "outputs": [],
   "source": [
    "#Loockback for the LSTM. The data is separated samples with timestep=loockback; \n",
    "#Loockback of 1337 mean all data per patient. Otherwise it is in nr of 30s epochs. e.g. 60=30min  120=1h 10=5min\n",
    "# HOw to split the dataset in [Train, Validation, Test] e.g.70:15:15  or 50:25:25 ,... \n",
    "# The split is done for each fold. Just for the chekout phase use fold one. Later calculate how often the test split fits into the total data, that is the fold. e.g. 30 patients with 15% test -> 4.5 (round to 5) patients per fold. Now see how many times the 30 can be folded with 5 patients in the test set to cover all patients. 30/5=6 -> 6 fold\n",
    "Lookback= 1000# 1337 or anything else . \n",
    "split=[0.60,0.2,0.2];\n",
    "#split=[0.70,0.30];\n",
    "fold=3\n",
    "batchsize=10  # LSTM needs [batchsize, timestep, feature] your batch size divides nb_samples from the original tensor. So batchsize should be smaller than samples\n",
    "Epochs=100\n",
    "hidden_units=32 # 2-64 or even 1000 as used by sleepnet best: multible of 32\n",
    "dropout=0 #0.5; 0.9  dropout can be between 0-1  as %  DROPOUT CAN BE ADDED TO EACH LAYER\n",
    "\n",
    "\n",
    "if Lookback==1337: # The problem is that the patients have different lenght. Then we need to zero pad. Instead of zeropadding we can use diffent length when batchsize==1\n",
    "       batchsize=1\n",
    "\n",
    "WhichMix='all'        "
   ]
  },
  {
   "cell_type": "markdown",
   "metadata": {},
   "source": [
    "# Loading data and running the DNN"
   ]
  },
  {
   "cell_type": "code",
   "execution_count": 36,
   "metadata": {},
   "outputs": [],
   "source": [
    "def LoadAndCalc(whichMix):\n",
    "       \"\"\"\n",
    "       LOAD DATA\n",
    "       \"\"\"\n",
    "       if WhichMix=='perSession':            \n",
    "              babies, AnnotMatrix_each_patient,FeatureMatrix_each_patient\\\n",
    "              =Loading_data_perSession(dataset, selectedbabies, lst, FeatureSet, Rpeakmethod,ux, \\\n",
    "                            merge34, Movingwindow, preaveraging, postaveraging, exceptNOF, onlyNOF, FEAT,\\\n",
    "                            dispinfo)       \n",
    "              \n",
    "       elif WhichMix=='all':              \n",
    "              babies, AnnotMatrix_each_patient, FeatureMatrix_each_patient\\\n",
    "              =Loading_data_all(dataset, selectedbabies, lst, FeatureSet, Rpeakmethod,ux, \\\n",
    "                            merge34, Movingwindow, preaveraging, postaveraging, exceptNOF, onlyNOF, FEAT,\\\n",
    "                            dispinfo)  \n",
    "\n",
    "       \"\"\"\n",
    "       LOOCV \n",
    "       \"\"\" \n",
    "       laenge=[sum(len(FeatureMatrix_each_patient[i]) for i in range(len(FeatureMatrix_each_patient))) ]\n",
    "       print('Total amount of epochs: {}'.format(laenge))\n",
    "       y_each_patient, Performance_Kappa, mean_train_metric, mean_train_loss, mean_val_metric, mean_val_loss, mean_test_metric, mean_test_loss\\\n",
    "       =leave_one_out_cross_validation(babies,AnnotMatrix_each_patient,FeatureMatrix_each_patient,\\\n",
    "                label,classweight, Used_classifier, drawing, lst,ChoosenKind,SamplingMeth,probability_threshold,\\\n",
    "                ASprobLimit,plotting,compare,saving,N,crit,msl,deciding_performance_measure,dispinfo,Lookback,split,fold,batchsize,Epochs,dropout,hidden_units)\n",
    "       \n",
    "     \n",
    "       return  babies, y_each_patient, Performance_Kappa, mean_train_metric, mean_train_loss, mean_val_metric, mean_val_loss, mean_test_metric, mean_test_loss\n"
   ]
  },
  {
   "cell_type": "code",
   "execution_count": 37,
   "metadata": {},
   "outputs": [
    {
     "ename": "NameError",
     "evalue": "name 'Movingwindow' is not defined",
     "output_type": "error",
     "traceback": [
      "\u001b[1;31m---------------------------------------------------------------------------\u001b[0m",
      "\u001b[1;31mNameError\u001b[0m                                 Traceback (most recent call last)",
      "\u001b[1;32m<ipython-input-37-def81e382d03>\u001b[0m in \u001b[0;36m<module>\u001b[1;34m()\u001b[0m\n\u001b[0;32m      1\u001b[0m \u001b[1;33m\u001b[0m\u001b[0m\n\u001b[1;32m----> 2\u001b[1;33m \u001b[0mbabies\u001b[0m\u001b[1;33m,\u001b[0m \u001b[0my_each_patient\u001b[0m\u001b[1;33m,\u001b[0m \u001b[0mPerformance_Kappa_pp\u001b[0m\u001b[1;33m,\u001b[0m \u001b[0mmean_train_metric_pp\u001b[0m\u001b[1;33m,\u001b[0m \u001b[0mmean_train_loss_pp\u001b[0m\u001b[1;33m,\u001b[0m \u001b[0mmean_val_metric_pp\u001b[0m\u001b[1;33m,\u001b[0m \u001b[0mmean_val_loss_pp\u001b[0m\u001b[1;33m,\u001b[0m \u001b[0mmean_test_metric_pp\u001b[0m\u001b[1;33m,\u001b[0m \u001b[0mmean_test_loss_pp\u001b[0m\u001b[1;33m=\u001b[0m \u001b[0mLoadAndCalc\u001b[0m\u001b[1;33m(\u001b[0m\u001b[0mWhichMix\u001b[0m\u001b[1;33m)\u001b[0m\u001b[1;33m\u001b[0m\u001b[0m\n\u001b[0m",
      "\u001b[1;32m<ipython-input-36-d877f6822ef8>\u001b[0m in \u001b[0;36mLoadAndCalc\u001b[1;34m(whichMix)\u001b[0m\n\u001b[0;32m      7\u001b[0m \u001b[1;33m\u001b[0m\u001b[0m\n\u001b[0;32m      8\u001b[0m        \u001b[1;32melif\u001b[0m \u001b[0mWhichMix\u001b[0m\u001b[1;33m==\u001b[0m\u001b[1;34m'all'\u001b[0m\u001b[1;33m:\u001b[0m\u001b[1;33m\u001b[0m\u001b[0m\n\u001b[1;32m----> 9\u001b[1;33m               \u001b[0mbabies\u001b[0m\u001b[1;33m,\u001b[0m \u001b[0mAnnotMatrix_each_patient\u001b[0m\u001b[1;33m,\u001b[0m \u001b[0mFeatureMatrix_each_patient\u001b[0m              \u001b[1;33m=\u001b[0m\u001b[0mLoading_data_all\u001b[0m\u001b[1;33m(\u001b[0m\u001b[0mdataset\u001b[0m\u001b[1;33m,\u001b[0m \u001b[0mselectedbabies\u001b[0m\u001b[1;33m,\u001b[0m \u001b[0mlst\u001b[0m\u001b[1;33m,\u001b[0m \u001b[0mFeatureSet\u001b[0m\u001b[1;33m,\u001b[0m \u001b[0mRpeakmethod\u001b[0m\u001b[1;33m,\u001b[0m\u001b[0mux\u001b[0m\u001b[1;33m,\u001b[0m                             \u001b[0mmerge34\u001b[0m\u001b[1;33m,\u001b[0m \u001b[0mMovingwindow\u001b[0m\u001b[1;33m,\u001b[0m \u001b[0mpreaveraging\u001b[0m\u001b[1;33m,\u001b[0m \u001b[0mpostaveraging\u001b[0m\u001b[1;33m,\u001b[0m \u001b[0mexceptNOF\u001b[0m\u001b[1;33m,\u001b[0m \u001b[0monlyNOF\u001b[0m\u001b[1;33m,\u001b[0m \u001b[0mFEAT\u001b[0m\u001b[1;33m,\u001b[0m                            \u001b[0mdispinfo\u001b[0m\u001b[1;33m)\u001b[0m\u001b[1;33m\u001b[0m\u001b[0m\n\u001b[0m\u001b[0;32m     10\u001b[0m \u001b[1;33m\u001b[0m\u001b[0m\n\u001b[0;32m     11\u001b[0m        \"\"\"\n",
      "\u001b[1;31mNameError\u001b[0m: name 'Movingwindow' is not defined"
     ]
    }
   ],
   "source": [
    "\n",
    "babies, y_each_patient, Performance_Kappa_pp, mean_train_metric_pp, mean_train_loss_pp, mean_val_metric_pp, mean_val_loss_pp, mean_test_metric_pp, mean_test_loss_pp\\\n",
    "= LoadAndCalc(WhichMix)                  \n"
   ]
  },
  {
   "cell_type": "code",
   "execution_count": null,
   "metadata": {},
   "outputs": [],
   "source": []
  }
 ],
 "metadata": {
  "kernelspec": {
   "display_name": "Python 3",
   "language": "python",
   "name": "python3"
  },
  "language_info": {
   "codemirror_mode": {
    "name": "ipython",
    "version": 3
   },
   "file_extension": ".py",
   "mimetype": "text/x-python",
   "name": "python",
   "nbconvert_exporter": "python",
   "pygments_lexer": "ipython3",
   "version": "3.6.5"
  }
 },
 "nbformat": 4,
 "nbformat_minor": 2
}
